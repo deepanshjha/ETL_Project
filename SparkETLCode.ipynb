{
 "cells": [
  {
   "cell_type": "markdown",
   "id": "5cd9701b",
   "metadata": {},
   "source": [
    "# ETL Project By Deepansh Jha"
   ]
  },
  {
   "cell_type": "markdown",
   "id": "6c84e076",
   "metadata": {},
   "source": [
    "### Setting Up Spark Session"
   ]
  },
  {
   "cell_type": "code",
   "execution_count": 1,
   "id": "8ca815ac",
   "metadata": {},
   "outputs": [
    {
     "data": {
      "text/html": [
       "\n",
       "            <div>\n",
       "                <p><b>SparkSession - in-memory</b></p>\n",
       "                \n",
       "        <div>\n",
       "            <p><b>SparkContext</b></p>\n",
       "\n",
       "            <p><a href=\"http://LAPTOP-3168MC0D:4040\">Spark UI</a></p>\n",
       "\n",
       "            <dl>\n",
       "              <dt>Version</dt>\n",
       "                <dd><code>v3.3.1</code></dd>\n",
       "              <dt>Master</dt>\n",
       "                <dd><code>local</code></dd>\n",
       "              <dt>AppName</dt>\n",
       "                <dd><code>DJ_Spark_Notebook</code></dd>\n",
       "            </dl>\n",
       "        </div>\n",
       "        \n",
       "            </div>\n",
       "        "
      ],
      "text/plain": [
       "<pyspark.sql.session.SparkSession at 0x17e04fab1f0>"
      ]
     },
     "execution_count": 1,
     "metadata": {},
     "output_type": "execute_result"
    }
   ],
   "source": [
    "import findspark\n",
    "findspark.init()\n",
    "\n",
    "from pyspark.sql import SparkSession\n",
    "spark=SparkSession.builder.appName(\"DJ_Spark_Notebook\").master(\"local\").getOrCreate()\n",
    "sc=spark.sparkContext\n",
    "spark"
   ]
  },
  {
   "cell_type": "markdown",
   "id": "bdab4327",
   "metadata": {},
   "source": [
    "### Reading Data From Hdfs Location, Where We Extracted Data Using Sqoop, With Default Schema For Now."
   ]
  },
  {
   "cell_type": "code",
   "execution_count": 2,
   "id": "f4c074d3",
   "metadata": {},
   "outputs": [],
   "source": [
    "df = spark.read.csv(\"/user/root/SRC_ATM_TRANS/part-m-00000\",header=False,inferSchema=True)"
   ]
  },
  {
   "cell_type": "markdown",
   "id": "cb349d7c",
   "metadata": {},
   "source": [
    "#### Checking Dataset"
   ]
  },
  {
   "cell_type": "code",
   "execution_count": 3,
   "id": "cd932658",
   "metadata": {},
   "outputs": [
    {
     "name": "stdout",
     "output_type": "stream",
     "text": [
      "+----+-------+---+------+---+--------+---+---------------+-----------+-------------------+----+----+------+------+----+------------------+----+----------+----+----+------+------+-------+--------------+------+----+----+----+----+-----+----+----+-------+--------------------+\n",
      "| _c0|    _c1|_c2|   _c3|_c4|     _c5|_c6|            _c7|        _c8|                _c9|_c10|_c11|  _c12|  _c13|_c14|              _c15|_c16|      _c17|_c18|_c19|  _c20|  _c21|   _c22|          _c23|  _c24|_c25|_c26|_c27|_c28| _c29|_c30|_c31|   _c32|                _c33|\n",
      "+----+-------+---+------+---+--------+---+---------------+-----------+-------------------+----+----+------+------+----+------------------+----+----------+----+----+------+------+-------+--------------+------+----+----+----+----+-----+----+----+-------+--------------------+\n",
      "|2017|January|  1|Sunday|  0|  Active|  1|            NCR| NÃƒÂ¦stved|        Farimagsvej|   8|4700|55.233|11.763| DKK|        MasterCard|5643|Withdrawal|null|null| 55.23|11.761|2616038|      Naestved|281.15|1014|  87|   7| 260|0.215|  92| 500|   Rain|          light rain|\n",
      "|2017|January|  1|Sunday|  0|Inactive|  2|            NCR|   Vejgaard|         Hadsundvej|  20|9000|57.043|  9.95| DKK|        MasterCard|1764|Withdrawal|null|null|57.048| 9.935|2616235|NÃƒÂ¸rresundby|280.64|1020|  93|   9| 250| 0.59|  92| 500|   Rain|          light rain|\n",
      "|2017|January|  1|Sunday|  0|Inactive|  2|            NCR|   Vejgaard|         Hadsundvej|  20|9000|57.043|  9.95| DKK|              VISA|1891|Withdrawal|null|null|57.048| 9.935|2616235|NÃƒÂ¸rresundby|280.64|1020|  93|   9| 250| 0.59|  92| 500|   Rain|          light rain|\n",
      "|2017|January|  1|Sunday|  0|Inactive|  3|            NCR|      Ikast|RÃƒÂ¥dhusstrÃƒÂ¦det|  12|7430|56.139| 9.154| DKK|              VISA|4166|Withdrawal|null|null|56.139| 9.158|2619426|         Ikast|281.15|1011| 100|   6| 240|  0.0|  75| 300|Drizzle|light intensity d...|\n",
      "|2017|January|  1|Sunday|  0|  Active|  4|            NCR| Svogerslev|       BrÃƒÂ¸nsager|   1|4000|55.634|12.018| DKK|        MasterCard|5153|Withdrawal|null|null|55.642| 12.08|2614481|      Roskilde|280.61|1014|  87|   7| 260|  0.0|  88| 701|   Mist|                mist|\n",
      "|2017|January|  1|Sunday|  0|  Active|  5|            NCR|       Nibe|             Torvet|   1|9240|56.983| 9.639| DKK|        MasterCard|3269|Withdrawal|null|null|56.981| 9.639|2616483|          Nibe|280.64|1020|  93|   9| 250| 0.59|  92| 500|   Rain|          light rain|\n",
      "|2017|January|  1|Sunday|  0|  Active|  6|            NCR| Fredericia|   SjÃƒÂ¦llandsgade|  33|7000|55.564| 9.757| DKK|        MasterCard| 887|Withdrawal|null|null|55.566| 9.753|2621951|    Fredericia|281.15|1014|  93|   7| 230| 0.29|  92| 500|   Rain|          light rain|\n",
      "|2017|January|  1|Sunday|  0|  Active|  7|Diebold Nixdorf|  Hjallerup|  Hjallerup Centret|  18|9320|57.168|10.148| DKK|Mastercard - on-us|4626|Withdrawal|null|null|57.165|10.146|2620275|     Hjallerup|280.64|1020|  93|   9| 250| 0.59|  92| 500|   Rain|          light rain|\n",
      "|2017|January|  1|Sunday|  0|  Active|  8|            NCR|GlyngÃƒÂ¸re|        FÃƒÂ¦rgevej|   1|7870|56.762| 8.867| DKK|        MasterCard| 470|Withdrawal|null|null|56.793| 8.853|2615964| Nykobing Mors|281.15|1011| 100|   6| 240|  0.0|  75| 300|Drizzle|light intensity d...|\n",
      "|2017|January|  1|Sunday|  0|  Active|  9|Diebold Nixdorf|    Hadsund|          Storegade|  12|9560|56.716|10.114| DKK|              VISA|8473|Withdrawal|null|null|56.715|10.117|2620952|       Hadsund|280.64|1020|  93|   9| 250| 0.59|  92| 500|   Rain|          light rain|\n",
      "+----+-------+---+------+---+--------+---+---------------+-----------+-------------------+----+----+------+------+----+------------------+----+----------+----+----+------+------+-------+--------------+------+----+----+----+----+-----+----+----+-------+--------------------+\n",
      "only showing top 10 rows\n",
      "\n"
     ]
    }
   ],
   "source": [
    "df.show(10)"
   ]
  },
  {
   "cell_type": "markdown",
   "id": "e302cc59",
   "metadata": {},
   "source": [
    "#### Using StructType to change the datatype of every column according to our preferences."
   ]
  },
  {
   "cell_type": "code",
   "execution_count": 4,
   "id": "2611a5db",
   "metadata": {},
   "outputs": [],
   "source": [
    "from pyspark.sql.types import StructType, StructField, IntegerType, StringType, BooleanType, DoubleType, LongType"
   ]
  },
  {
   "cell_type": "code",
   "execution_count": 5,
   "id": "29314437",
   "metadata": {},
   "outputs": [],
   "source": [
    "d_type = StructType([StructField('year', IntegerType(), nullable = True),\n",
    "                        StructField('month', StringType(), True),\n",
    "                        StructField('day', IntegerType(), True),\n",
    "                        StructField('weekday', StringType(), True),\n",
    "                        StructField('hour', IntegerType(), True),\n",
    "                        StructField('atm_status', StringType(), True),\n",
    "                        StructField('atm_id', StringType(), True),\n",
    "                        StructField('atm_manufacturer', StringType(), True),\n",
    "                        StructField('atm_location', StringType(), True),\n",
    "                        StructField('atm_streetname', StringType(), True),\n",
    "                        StructField('atm_street_number', IntegerType(), True),\n",
    "                        StructField('atm_zipcode', IntegerType(), True),\n",
    "                        StructField('atm_lat', DoubleType(), True),\n",
    "                        StructField('atm_lon', DoubleType(), True),\n",
    "                        StructField('currency', StringType(), True),\n",
    "                        StructField('card_type', StringType(), True),\n",
    "                        StructField('transaction_amount', IntegerType(), True),\n",
    "                        StructField('service', StringType(), True),\n",
    "                        StructField('message_code', StringType(), True),\n",
    "                        StructField('message_text', StringType(), True),\n",
    "                        StructField('weather_lat', DoubleType(), True),\n",
    "                        StructField('weather_lon', DoubleType(), True),\n",
    "                        StructField('weather_city_id', IntegerType(), True),\n",
    "                        StructField('weather_city_name', StringType(), True),\n",
    "                        StructField('temp', DoubleType(), True),\n",
    "                        StructField('pressure', IntegerType(), True),\n",
    "                        StructField('humidity', IntegerType(), True),\n",
    "                        StructField('wind_speed', IntegerType(), True),\n",
    "                        StructField('wind_deg', IntegerType(), True),\n",
    "                        StructField('rain_3h', DoubleType(), True),\n",
    "                        StructField('clouds_all', IntegerType(), True),\n",
    "                        StructField('weather_id', IntegerType(), True),\n",
    "                        StructField('weather_main', StringType(), True),\n",
    "                        StructField('weather_description', StringType(), True)])\n",
    "\n",
    "#This 'd_type' Will Be Used as Parameter in schema below and datatypes of each column will be assigned according to it."
   ]
  },
  {
   "cell_type": "code",
   "execution_count": 6,
   "id": "690dc96f",
   "metadata": {},
   "outputs": [],
   "source": [
    "df = spark.read.csv(\"D://Upgrad//Data Engineering//Spark//ETL Project//Spar-Nord-Bank_ETL-Project-main//SRC_ATM_TRANS//part-m-00000\", header = False, schema = d_type)\n",
    "\n",
    "# Here We are reading dataset which we extracted using sqoop in hdfs directory.\n",
    "# but insted of using inferschema, which by default assign datatypes to each column, we have used d_type(structType) insted."
   ]
  },
  {
   "cell_type": "code",
   "execution_count": 7,
   "id": "826f3814",
   "metadata": {},
   "outputs": [
    {
     "name": "stdout",
     "output_type": "stream",
     "text": [
      "+----+-------+---+-------+----+----------+------+----------------+------------+-------------------+-----------------+-----------+-------+-------+--------+----------+------------------+----------+------------+------------+-----------+-----------+---------------+-----------------+------+--------+--------+----------+--------+-------+----------+----------+------------+--------------------+\n",
      "|year|  month|day|weekday|hour|atm_status|atm_id|atm_manufacturer|atm_location|     atm_streetname|atm_street_number|atm_zipcode|atm_lat|atm_lon|currency| card_type|transaction_amount|   service|message_code|message_text|weather_lat|weather_lon|weather_city_id|weather_city_name|  temp|pressure|humidity|wind_speed|wind_deg|rain_3h|clouds_all|weather_id|weather_main| weather_description|\n",
      "+----+-------+---+-------+----+----------+------+----------------+------------+-------------------+-----------------+-----------+-------+-------+--------+----------+------------------+----------+------------+------------+-----------+-----------+---------------+-----------------+------+--------+--------+----------+--------+-------+----------+----------+------------+--------------------+\n",
      "|2017|January|  1| Sunday|   0|    Active|     1|             NCR|  NÃƒÂ¦stved|        Farimagsvej|                8|       4700| 55.233| 11.763|     DKK|MasterCard|              5643|Withdrawal|        null|        null|      55.23|     11.761|        2616038|         Naestved|281.15|    1014|      87|         7|     260|  0.215|        92|       500|        Rain|          light rain|\n",
      "|2017|January|  1| Sunday|   0|  Inactive|     2|             NCR|    Vejgaard|         Hadsundvej|               20|       9000| 57.043|   9.95|     DKK|MasterCard|              1764|Withdrawal|        null|        null|     57.048|      9.935|        2616235|   NÃƒÂ¸rresundby|280.64|    1020|      93|         9|     250|   0.59|        92|       500|        Rain|          light rain|\n",
      "|2017|January|  1| Sunday|   0|  Inactive|     2|             NCR|    Vejgaard|         Hadsundvej|               20|       9000| 57.043|   9.95|     DKK|      VISA|              1891|Withdrawal|        null|        null|     57.048|      9.935|        2616235|   NÃƒÂ¸rresundby|280.64|    1020|      93|         9|     250|   0.59|        92|       500|        Rain|          light rain|\n",
      "|2017|January|  1| Sunday|   0|  Inactive|     3|             NCR|       Ikast|RÃƒÂ¥dhusstrÃƒÂ¦det|               12|       7430| 56.139|  9.154|     DKK|      VISA|              4166|Withdrawal|        null|        null|     56.139|      9.158|        2619426|            Ikast|281.15|    1011|     100|         6|     240|    0.0|        75|       300|     Drizzle|light intensity d...|\n",
      "|2017|January|  1| Sunday|   0|    Active|     4|             NCR|  Svogerslev|       BrÃƒÂ¸nsager|                1|       4000| 55.634| 12.018|     DKK|MasterCard|              5153|Withdrawal|        null|        null|     55.642|      12.08|        2614481|         Roskilde|280.61|    1014|      87|         7|     260|    0.0|        88|       701|        Mist|                mist|\n",
      "+----+-------+---+-------+----+----------+------+----------------+------------+-------------------+-----------------+-----------+-------+-------+--------+----------+------------------+----------+------------+------------+-----------+-----------+---------------+-----------------+------+--------+--------+----------+--------+-------+----------+----------+------------+--------------------+\n",
      "only showing top 5 rows\n",
      "\n"
     ]
    }
   ],
   "source": [
    "df.show(5) # Just checking Dataset."
   ]
  },
  {
   "cell_type": "markdown",
   "id": "41e8b45c",
   "metadata": {},
   "source": [
    "#### Checking Count Of Records."
   ]
  },
  {
   "cell_type": "code",
   "execution_count": 8,
   "id": "1a67f433",
   "metadata": {},
   "outputs": [
    {
     "data": {
      "text/plain": [
       "2468572"
      ]
     },
     "execution_count": 8,
     "metadata": {},
     "output_type": "execute_result"
    }
   ],
   "source": [
    "df.select('*').count() "
   ]
  },
  {
   "cell_type": "markdown",
   "id": "837f6478",
   "metadata": {},
   "source": [
    "#### Checking Columns"
   ]
  },
  {
   "cell_type": "code",
   "execution_count": 9,
   "id": "b00f3f04",
   "metadata": {},
   "outputs": [
    {
     "data": {
      "text/plain": [
       "['year',\n",
       " 'month',\n",
       " 'day',\n",
       " 'weekday',\n",
       " 'hour',\n",
       " 'atm_status',\n",
       " 'atm_id',\n",
       " 'atm_manufacturer',\n",
       " 'atm_location',\n",
       " 'atm_streetname',\n",
       " 'atm_street_number',\n",
       " 'atm_zipcode',\n",
       " 'atm_lat',\n",
       " 'atm_lon',\n",
       " 'currency',\n",
       " 'card_type',\n",
       " 'transaction_amount',\n",
       " 'service',\n",
       " 'message_code',\n",
       " 'message_text',\n",
       " 'weather_lat',\n",
       " 'weather_lon',\n",
       " 'weather_city_id',\n",
       " 'weather_city_name',\n",
       " 'temp',\n",
       " 'pressure',\n",
       " 'humidity',\n",
       " 'wind_speed',\n",
       " 'wind_deg',\n",
       " 'rain_3h',\n",
       " 'clouds_all',\n",
       " 'weather_id',\n",
       " 'weather_main',\n",
       " 'weather_description']"
      ]
     },
     "execution_count": 9,
     "metadata": {},
     "output_type": "execute_result"
    }
   ],
   "source": [
    "df.columns"
   ]
  },
  {
   "cell_type": "code",
   "execution_count": 10,
   "id": "a4db4364",
   "metadata": {},
   "outputs": [
    {
     "data": {
      "text/plain": [
       "34"
      ]
     },
     "execution_count": 10,
     "metadata": {},
     "output_type": "execute_result"
    }
   ],
   "source": [
    "len(df.columns) #Number Of Columns"
   ]
  },
  {
   "cell_type": "markdown",
   "id": "c7aaf249",
   "metadata": {},
   "source": [
    "#### Checking Datatypes,Columns."
   ]
  },
  {
   "cell_type": "code",
   "execution_count": 11,
   "id": "544bf5f3",
   "metadata": {},
   "outputs": [
    {
     "name": "stdout",
     "output_type": "stream",
     "text": [
      "root\n",
      " |-- year: integer (nullable = true)\n",
      " |-- month: string (nullable = true)\n",
      " |-- day: integer (nullable = true)\n",
      " |-- weekday: string (nullable = true)\n",
      " |-- hour: integer (nullable = true)\n",
      " |-- atm_status: string (nullable = true)\n",
      " |-- atm_id: string (nullable = true)\n",
      " |-- atm_manufacturer: string (nullable = true)\n",
      " |-- atm_location: string (nullable = true)\n",
      " |-- atm_streetname: string (nullable = true)\n",
      " |-- atm_street_number: integer (nullable = true)\n",
      " |-- atm_zipcode: integer (nullable = true)\n",
      " |-- atm_lat: double (nullable = true)\n",
      " |-- atm_lon: double (nullable = true)\n",
      " |-- currency: string (nullable = true)\n",
      " |-- card_type: string (nullable = true)\n",
      " |-- transaction_amount: integer (nullable = true)\n",
      " |-- service: string (nullable = true)\n",
      " |-- message_code: string (nullable = true)\n",
      " |-- message_text: string (nullable = true)\n",
      " |-- weather_lat: double (nullable = true)\n",
      " |-- weather_lon: double (nullable = true)\n",
      " |-- weather_city_id: integer (nullable = true)\n",
      " |-- weather_city_name: string (nullable = true)\n",
      " |-- temp: double (nullable = true)\n",
      " |-- pressure: integer (nullable = true)\n",
      " |-- humidity: integer (nullable = true)\n",
      " |-- wind_speed: integer (nullable = true)\n",
      " |-- wind_deg: integer (nullable = true)\n",
      " |-- rain_3h: double (nullable = true)\n",
      " |-- clouds_all: integer (nullable = true)\n",
      " |-- weather_id: integer (nullable = true)\n",
      " |-- weather_main: string (nullable = true)\n",
      " |-- weather_description: string (nullable = true)\n",
      "\n"
     ]
    }
   ],
   "source": [
    "df.printSchema()"
   ]
  },
  {
   "cell_type": "markdown",
   "id": "ed0227bd",
   "metadata": {},
   "source": [
    "### Creating Dimention And Fact Tables"
   ]
  },
  {
   "cell_type": "markdown",
   "id": "65c7bb3b",
   "metadata": {},
   "source": [
    "##### Creating a dataframe for Location Dimension according to Target Dimension Model."
   ]
  },
  {
   "cell_type": "code",
   "execution_count": 12,
   "id": "a554d6eb",
   "metadata": {},
   "outputs": [],
   "source": [
    "location = df.select('atm_location', 'atm_streetname', 'atm_street_number', 'atm_zipcode', 'atm_lat', 'atm_lon').distinct()\n",
    "\n",
    "#Selecting Some Columns With Distinct Values And Assigning Variable 'location' to it."
   ]
  },
  {
   "cell_type": "code",
   "execution_count": 13,
   "id": "dff8e693",
   "metadata": {},
   "outputs": [],
   "source": [
    "from pyspark.sql.functions import * #importing everything from pyspark.sql.functions"
   ]
  },
  {
   "cell_type": "code",
   "execution_count": 14,
   "id": "1de2d05c",
   "metadata": {},
   "outputs": [
    {
     "name": "stdout",
     "output_type": "stream",
     "text": [
      "+--------------------+----------------+-----------------+-----------+-------+-------+-----------+\n",
      "|        atm_location|  atm_streetname|atm_street_number|atm_zipcode|atm_lat|atm_lon|location_id|\n",
      "+--------------------+----------------+-----------------+-----------+-------+-------+-----------+\n",
      "|               Vadum|  Ellehammersvej|               43|       9430| 57.118|  9.861|          0|\n",
      "|            Slagelse| Mariendals Alle|               29|       4200| 55.398| 11.342|          1|\n",
      "|          Fredericia|SjÃƒÂ¦llandsgade|               33|       7000| 55.564|  9.757|          2|\n",
      "|             Kolding|        Vejlevej|              135|       6000| 55.505|  9.457|          3|\n",
      "|                Aars| Himmerlandsgade|               70|       9600| 56.803|  9.518|          4|\n",
      "|     Aarhus Lufthavn| Ny Lufthavnsvej|               24|       8560| 56.308| 10.627|          5|\n",
      "|                 Fur|      StenÃƒÂ¸re|               19|       7884| 56.805|   9.02|          6|\n",
      "|            Hasseris|     Hasserisvej|              113|       9000| 57.044|  9.898|          7|\n",
      "|Intern  KÃƒÂ¸benhavn|RÃƒÂ¥dhuspladsen|               75|       1550| 55.676| 12.571|          8|\n",
      "|      Skelagervej 15|     Skelagervej|               15|       9000| 57.023|  9.891|          9|\n",
      "+--------------------+----------------+-----------------+-----------+-------+-------+-----------+\n",
      "only showing top 10 rows\n",
      "\n"
     ]
    }
   ],
   "source": [
    "df_temp = location.rdd.zipWithIndex().toDF()\n",
    "dim_location = df_temp.select(col(\"_1.*\"),col(\"_2\").alias('location_id'))\n",
    "dim_location.show(10)\n",
    "\n",
    "#Creating Primary Key Column"
   ]
  },
  {
   "cell_type": "markdown",
   "id": "8d96a35a",
   "metadata": {},
   "source": [
    "##### Renaming Columns"
   ]
  },
  {
   "cell_type": "code",
   "execution_count": 15,
   "id": "8edb4d2e",
   "metadata": {},
   "outputs": [],
   "source": [
    "DIM_LOCATION = dim_location.withColumnRenamed('atm_location','location').withColumnRenamed('atm_streetname','streetname').withColumnRenamed('atm_street_number','street_number').withColumnRenamed('atm_zipcode','zipcode').withColumnRenamed('atm_lat','lat').withColumnRenamed('atm_lon','lon')\n",
    "\n",
    "#atm_location to location\n",
    "#atm_streetname to streetname\n",
    "#atm_street_number to street_number\n",
    "#atm_zipcode to zipcode\n",
    "#atm_lat to lat\n",
    "#atm_lon to lon"
   ]
  },
  {
   "cell_type": "code",
   "execution_count": 16,
   "id": "974697e1",
   "metadata": {},
   "outputs": [],
   "source": [
    "DIM_LOCATION = DIM_LOCATION.select('location_id', 'location', 'streetname', 'street_number', 'zipcode', 'lat', 'lon')\n",
    "\n",
    "#Selecting The Columns Who's Name Has Been Renamed And Assigning Them In 'DIM_LOCATION' Variable."
   ]
  },
  {
   "cell_type": "code",
   "execution_count": 17,
   "id": "cf82a2a7",
   "metadata": {},
   "outputs": [
    {
     "data": {
      "text/plain": [
       "['location_id',\n",
       " 'location',\n",
       " 'streetname',\n",
       " 'street_number',\n",
       " 'zipcode',\n",
       " 'lat',\n",
       " 'lon']"
      ]
     },
     "execution_count": 17,
     "metadata": {},
     "output_type": "execute_result"
    }
   ],
   "source": [
    "DIM_LOCATION.columns\n",
    "\n",
    "# Making Sure Everything Is Fine.\n",
    "# We Can See Those Renamed Columns."
   ]
  },
  {
   "cell_type": "code",
   "execution_count": 18,
   "id": "18ec0e24",
   "metadata": {},
   "outputs": [
    {
     "data": {
      "text/plain": [
       "109"
      ]
     },
     "execution_count": 18,
     "metadata": {},
     "output_type": "execute_result"
    }
   ],
   "source": [
    "DIM_LOCATION.select('*').count()\n",
    "\n",
    "#Counting Number Of Records Present In DIM_LOCATION's Columns."
   ]
  },
  {
   "cell_type": "markdown",
   "id": "6b574899",
   "metadata": {},
   "source": [
    "#### Creating a dataframe for ATM Dimension according to Target Dimension Model"
   ]
  },
  {
   "cell_type": "code",
   "execution_count": 19,
   "id": "b4d5dd71",
   "metadata": {},
   "outputs": [],
   "source": [
    "atm = df.select('atm_id', 'atm_manufacturer', 'atm_lat', 'atm_lon')\n",
    "\n",
    "#Selecting Some Columns And Assigning Them To Variable 'atm'."
   ]
  },
  {
   "cell_type": "code",
   "execution_count": 20,
   "id": "06242f3a",
   "metadata": {},
   "outputs": [],
   "source": [
    "atm = atm.withColumnRenamed('atm_id', 'atm_number')\n",
    "\n",
    "#Renaming 'atm_id' to 'atm_number'"
   ]
  },
  {
   "cell_type": "code",
   "execution_count": 21,
   "id": "a48429bd",
   "metadata": {},
   "outputs": [],
   "source": [
    "atm = atm.join(dim_location, on = ['atm_lat', 'atm_lon'], how = \"left\")\n",
    "\n",
    "#Joining dim_location and atm columns using left join and assigning it to variable 'atm'."
   ]
  },
  {
   "cell_type": "code",
   "execution_count": 22,
   "id": "f637efd7",
   "metadata": {},
   "outputs": [
    {
     "data": {
      "text/plain": [
       "['atm_lat',\n",
       " 'atm_lon',\n",
       " 'atm_number',\n",
       " 'atm_manufacturer',\n",
       " 'atm_location',\n",
       " 'atm_streetname',\n",
       " 'atm_street_number',\n",
       " 'atm_zipcode',\n",
       " 'location_id']"
      ]
     },
     "execution_count": 22,
     "metadata": {},
     "output_type": "execute_result"
    }
   ],
   "source": [
    "atm.columns\n",
    "\n",
    "#Checking If Everything Is As Per Requirement."
   ]
  },
  {
   "cell_type": "code",
   "execution_count": 23,
   "id": "b68b5fae",
   "metadata": {},
   "outputs": [
    {
     "data": {
      "text/plain": [
       "9"
      ]
     },
     "execution_count": 23,
     "metadata": {},
     "output_type": "execute_result"
    }
   ],
   "source": [
    "len(atm.columns)\n",
    "\n",
    "# Checking Number Of Columns"
   ]
  },
  {
   "cell_type": "code",
   "execution_count": 24,
   "id": "7671d9aa",
   "metadata": {},
   "outputs": [],
   "source": [
    "atm = atm.select('atm_number','atm_manufacturer','location_id').distinct()\n",
    "\n",
    "#Selecting Columns Which Are Required And Taking Distinct Values Of Those Columns."
   ]
  },
  {
   "cell_type": "code",
   "execution_count": 25,
   "id": "9a3c133c",
   "metadata": {},
   "outputs": [],
   "source": [
    "atm = atm.withColumnRenamed('location_id', 'atm_location_id')\n",
    "\n",
    "#Renaming location_id to atm_location_id"
   ]
  },
  {
   "cell_type": "code",
   "execution_count": 26,
   "id": "1f5a9147",
   "metadata": {},
   "outputs": [
    {
     "data": {
      "text/plain": [
       "['atm_number', 'atm_manufacturer', 'atm_location_id']"
      ]
     },
     "execution_count": 26,
     "metadata": {},
     "output_type": "execute_result"
    }
   ],
   "source": [
    "atm.columns\n",
    "\n",
    "#Checking All The Columns\n",
    "#location_id is renamed to atm_location_id"
   ]
  },
  {
   "cell_type": "code",
   "execution_count": 27,
   "id": "26da9d37",
   "metadata": {},
   "outputs": [
    {
     "name": "stdout",
     "output_type": "stream",
     "text": [
      "+----------+----------------+---------------+------+\n",
      "|atm_number|atm_manufacturer|atm_location_id|atm_id|\n",
      "+----------+----------------+---------------+------+\n",
      "|        12|             NCR|             23|     0|\n",
      "|        98|             NCR|             88|     1|\n",
      "|       101|             NCR|             30|     2|\n",
      "|        36|             NCR|             67|     3|\n",
      "|        85| Diebold Nixdorf|            100|     4|\n",
      "|        43|             NCR|              4|     5|\n",
      "|        21|             NCR|             23|     6|\n",
      "|        33|             NCR|              0|     7|\n",
      "|        84|             NCR|             41|     8|\n",
      "|         3|             NCR|             44|     9|\n",
      "+----------+----------------+---------------+------+\n",
      "only showing top 10 rows\n",
      "\n"
     ]
    }
   ],
   "source": [
    "df_temp = atm.rdd.zipWithIndex().toDF()\n",
    "dim_atm = df_temp.select(col(\"_1.*\"),col(\"_2\").alias('atm_id'))\n",
    "dim_atm.show(10)\n",
    "\n",
    "#Creating Primary Key Column"
   ]
  },
  {
   "cell_type": "code",
   "execution_count": 28,
   "id": "a8afbdb4",
   "metadata": {},
   "outputs": [],
   "source": [
    "DIM_ATM = dim_atm.select('atm_id', 'atm_number', 'atm_manufacturer', 'atm_location_id')\n",
    "\n",
    "#Selecting Columns As Per The Target Dimention Model And Assigning 'DIM_ATM' To Them."
   ]
  },
  {
   "cell_type": "code",
   "execution_count": 29,
   "id": "10c5cb8b",
   "metadata": {},
   "outputs": [
    {
     "data": {
      "text/plain": [
       "['atm_id', 'atm_number', 'atm_manufacturer', 'atm_location_id']"
      ]
     },
     "execution_count": 29,
     "metadata": {},
     "output_type": "execute_result"
    }
   ],
   "source": [
    "DIM_ATM.columns\n",
    "\n",
    "#Checking If Columns Are Assigned To DIM_ATM Variable."
   ]
  },
  {
   "cell_type": "code",
   "execution_count": 30,
   "id": "d73d0544",
   "metadata": {},
   "outputs": [
    {
     "data": {
      "text/plain": [
       "156"
      ]
     },
     "execution_count": 30,
     "metadata": {},
     "output_type": "execute_result"
    }
   ],
   "source": [
    "DIM_ATM.select('*').count()\n",
    "\n",
    "#Counting The Number Of Records In The Columns Selected Above"
   ]
  },
  {
   "cell_type": "markdown",
   "id": "7e33a776",
   "metadata": {},
   "source": [
    "#### Creating a dataframe for Date Dimension according to Target Dimension Model"
   ]
  },
  {
   "cell_type": "code",
   "execution_count": 31,
   "id": "671b178d",
   "metadata": {},
   "outputs": [],
   "source": [
    "date = df.select('year', 'month', 'day', 'hour', 'weekday')\n",
    "\n",
    "#Selecting Columns As Per The Requirement."
   ]
  },
  {
   "cell_type": "code",
   "execution_count": 32,
   "id": "32c1a4c7",
   "metadata": {},
   "outputs": [],
   "source": [
    "date = date.withColumn('full_date', concat_ws('-', date.year, date.month, date.day))\n",
    "\n",
    "#concatenating year-month-day with a '-' in between and assigning new column 'full_date' to it."
   ]
  },
  {
   "cell_type": "code",
   "execution_count": 33,
   "id": "5d90ef99",
   "metadata": {},
   "outputs": [],
   "source": [
    "date = date.withColumn('full_time', concat_ws(':', date.hour, lit('00'), lit('00')))\n",
    "\n",
    "#concatenating hour:00:00 with ':' in between and assigning it to new column 'full_time'"
   ]
  },
  {
   "cell_type": "code",
   "execution_count": 34,
   "id": "e6acfd86",
   "metadata": {},
   "outputs": [],
   "source": [
    "date = date.withColumn('full_date_time', concat_ws(' ', date.full_date, date.full_time))\n",
    "\n",
    "#No concatenating full_date full_time with a ' ' in between and assigning it to new column full_date_time.\n",
    "#The process was to make everything in this pattern 'yyyy-MMM-dd HH:mm:ss' to convert it into datetime(timestamp) datatype."
   ]
  },
  {
   "cell_type": "markdown",
   "id": "c8c944cf",
   "metadata": {},
   "source": [
    "#### The process was to make everything in this pattern 'yyyy-MMM-dd HH:mm:ss' to convert it into datetime(timestamp) datatype"
   ]
  },
  {
   "cell_type": "code",
   "execution_count": 35,
   "id": "4c0b9f30",
   "metadata": {},
   "outputs": [],
   "source": [
    "pattern = 'yyyy-MMM-dd HH:mm:ss'\n",
    "date = date.withColumn('full_date_time', unix_timestamp(date.full_date_time, pattern).cast('timestamp'))\n",
    "\n",
    "#Converting datatype To Datetime(timestamp)."
   ]
  },
  {
   "cell_type": "code",
   "execution_count": 36,
   "id": "22ba4175",
   "metadata": {},
   "outputs": [],
   "source": [
    "spark.conf.set(\"spark.sql.legacy.timeParserPolicy\",\"LEGACY\")"
   ]
  },
  {
   "cell_type": "code",
   "execution_count": 37,
   "id": "ad5e25fa",
   "metadata": {},
   "outputs": [
    {
     "name": "stdout",
     "output_type": "stream",
     "text": [
      "+----+-------+---+----+-------+--------------+---------+-------------------+\n",
      "|year|month  |day|hour|weekday|full_date     |full_time|full_date_time     |\n",
      "+----+-------+---+----+-------+--------------+---------+-------------------+\n",
      "|2017|January|1  |0   |Sunday |2017-January-1|0:00:00  |2017-01-01 00:00:00|\n",
      "|2017|January|1  |0   |Sunday |2017-January-1|0:00:00  |2017-01-01 00:00:00|\n",
      "|2017|January|1  |0   |Sunday |2017-January-1|0:00:00  |2017-01-01 00:00:00|\n",
      "|2017|January|1  |0   |Sunday |2017-January-1|0:00:00  |2017-01-01 00:00:00|\n",
      "|2017|January|1  |0   |Sunday |2017-January-1|0:00:00  |2017-01-01 00:00:00|\n",
      "|2017|January|1  |0   |Sunday |2017-January-1|0:00:00  |2017-01-01 00:00:00|\n",
      "|2017|January|1  |0   |Sunday |2017-January-1|0:00:00  |2017-01-01 00:00:00|\n",
      "|2017|January|1  |0   |Sunday |2017-January-1|0:00:00  |2017-01-01 00:00:00|\n",
      "|2017|January|1  |0   |Sunday |2017-January-1|0:00:00  |2017-01-01 00:00:00|\n",
      "|2017|January|1  |0   |Sunday |2017-January-1|0:00:00  |2017-01-01 00:00:00|\n",
      "+----+-------+---+----+-------+--------------+---------+-------------------+\n",
      "only showing top 10 rows\n",
      "\n"
     ]
    }
   ],
   "source": [
    "date.show(10, truncate = False)\n",
    "\n",
    "#checking date dataframe.\n",
    "\n",
    "#when values are so huge, just to read the whole value we use 'truncate=False' parameter."
   ]
  },
  {
   "cell_type": "code",
   "execution_count": 38,
   "id": "6247c10d",
   "metadata": {},
   "outputs": [],
   "source": [
    "date = date.select('year', 'month', 'day', 'hour', 'weekday', 'full_date_time').distinct()\n",
    "\n",
    "#Selecting The Required Columns With Distinct Values."
   ]
  },
  {
   "cell_type": "code",
   "execution_count": 39,
   "id": "50f46792",
   "metadata": {},
   "outputs": [
    {
     "name": "stdout",
     "output_type": "stream",
     "text": [
      "+----+--------+---+----+---------+-------------------+-------+\n",
      "|year|   month|day|hour|  weekday|     full_date_time|date_id|\n",
      "+----+--------+---+----+---------+-------------------+-------+\n",
      "|2017| January|  9|  16|   Monday|2017-01-09 16:00:00|      0|\n",
      "|2017| January| 11|  17|Wednesday|2017-01-11 17:00:00|      1|\n",
      "|2017| January| 30|  21|   Monday|2017-01-30 21:00:00|      2|\n",
      "|2017|February|  4|  19| Saturday|2017-02-04 19:00:00|      3|\n",
      "|2017|February|  8|   9|Wednesday|2017-02-08 09:00:00|      4|\n",
      "|2017|February| 14|   2|  Tuesday|2017-02-14 02:00:00|      5|\n",
      "|2017|February| 14|  21|  Tuesday|2017-02-14 21:00:00|      6|\n",
      "|2017|February| 25|   5| Saturday|2017-02-25 05:00:00|      7|\n",
      "|2017|February| 27|  23|   Monday|2017-02-27 23:00:00|      8|\n",
      "|2017|   March| 12|   0|   Sunday|2017-03-12 00:00:00|      9|\n",
      "+----+--------+---+----+---------+-------------------+-------+\n",
      "only showing top 10 rows\n",
      "\n"
     ]
    }
   ],
   "source": [
    "df_temp = date.rdd.zipWithIndex().toDF()\n",
    "DIM_DATE = df_temp.select(col(\"_1.*\"),col(\"_2\").alias('date_id'))\n",
    "DIM_DATE.show(10)\n",
    "\n",
    "#Creating Primary-Key Column"
   ]
  },
  {
   "cell_type": "code",
   "execution_count": 40,
   "id": "9a2206a0",
   "metadata": {},
   "outputs": [],
   "source": [
    "DIM_DATE = DIM_DATE.select('date_id', 'full_date_time', 'year', 'month', 'day', 'hour', 'weekday')\n",
    "\n",
    "#Arranging Columns According To Target Dimention Model."
   ]
  },
  {
   "cell_type": "code",
   "execution_count": 41,
   "id": "3efffc16",
   "metadata": {},
   "outputs": [
    {
     "data": {
      "text/plain": [
       "['date_id', 'full_date_time', 'year', 'month', 'day', 'hour', 'weekday']"
      ]
     },
     "execution_count": 41,
     "metadata": {},
     "output_type": "execute_result"
    }
   ],
   "source": [
    "DIM_DATE.columns\n",
    "\n",
    "#Checking The Columns"
   ]
  },
  {
   "cell_type": "code",
   "execution_count": 42,
   "id": "43c53c94",
   "metadata": {},
   "outputs": [
    {
     "data": {
      "text/plain": [
       "8685"
      ]
     },
     "execution_count": 42,
     "metadata": {},
     "output_type": "execute_result"
    }
   ],
   "source": [
    "DIM_DATE.select('*').count()\n",
    "\n",
    "#Total Number Of Records In DIM_Date."
   ]
  },
  {
   "cell_type": "markdown",
   "id": "bbb246cd",
   "metadata": {},
   "source": [
    "#### Creating a dataframe for Card Type Dimension according to Target Dimension Model"
   ]
  },
  {
   "cell_type": "code",
   "execution_count": 43,
   "id": "9ac024c4",
   "metadata": {},
   "outputs": [],
   "source": [
    "card_type = df.select('card_type').distinct()\n",
    "\n",
    "#selecting card_type column from df and assigning it to card_type variable."
   ]
  },
  {
   "cell_type": "code",
   "execution_count": 44,
   "id": "75bbaaf7",
   "metadata": {},
   "outputs": [
    {
     "name": "stdout",
     "output_type": "stream",
     "text": [
      "+--------------------+------------+\n",
      "|           card_type|card_type_id|\n",
      "+--------------------+------------+\n",
      "|     Dankort - on-us|           0|\n",
      "|              CIRRUS|           1|\n",
      "|         HÃƒÂ¦vekort|           2|\n",
      "|                VISA|           3|\n",
      "|  Mastercard - on-us|           4|\n",
      "|             Maestro|           5|\n",
      "|Visa Dankort - on-us|           6|\n",
      "|        Visa Dankort|           7|\n",
      "|            VisaPlus|           8|\n",
      "|          MasterCard|           9|\n",
      "+--------------------+------------+\n",
      "only showing top 10 rows\n",
      "\n"
     ]
    }
   ],
   "source": [
    "df_temp = card_type.rdd.zipWithIndex().toDF()\n",
    "DIM_CARD_TYPE = df_temp.select(col(\"_1.*\"),col(\"_2\").alias('card_type_id'))\n",
    "DIM_CARD_TYPE.show(10)\n",
    "\n",
    "#Creating Primary-Key Column"
   ]
  },
  {
   "cell_type": "code",
   "execution_count": 45,
   "id": "78c7fb74",
   "metadata": {},
   "outputs": [],
   "source": [
    "DIM_CARD_TYPE = DIM_CARD_TYPE.select('card_type_id', 'card_type')\n",
    "\n",
    "#Arranging Columns As Per Requirement."
   ]
  },
  {
   "cell_type": "code",
   "execution_count": 46,
   "id": "98c4eda5",
   "metadata": {},
   "outputs": [
    {
     "data": {
      "text/plain": [
       "['card_type_id', 'card_type']"
      ]
     },
     "execution_count": 46,
     "metadata": {},
     "output_type": "execute_result"
    }
   ],
   "source": [
    "DIM_CARD_TYPE.columns\n",
    "\n",
    "#Checking Columns"
   ]
  },
  {
   "cell_type": "code",
   "execution_count": 47,
   "id": "0012683e",
   "metadata": {},
   "outputs": [
    {
     "data": {
      "text/plain": [
       "12"
      ]
     },
     "execution_count": 47,
     "metadata": {},
     "output_type": "execute_result"
    }
   ],
   "source": [
    "DIM_CARD_TYPE.select('*').count()\n",
    "\n",
    "#Checking Total Number Of Records In DIM_CARD_TYPE"
   ]
  },
  {
   "cell_type": "markdown",
   "id": "90852b09",
   "metadata": {},
   "source": [
    "#### Creating the Transaction Fact Table according to Target Model Dimension"
   ]
  },
  {
   "cell_type": "code",
   "execution_count": 48,
   "id": "0b842910",
   "metadata": {},
   "outputs": [],
   "source": [
    "fact_loc = df.withColumnRenamed('atm_location','location').withColumnRenamed('atm_streetname','streetname').withColumnRenamed('atm_street_number','street_number').withColumnRenamed('atm_zipcode','zipcode').withColumnRenamed('atm_lat','lat').withColumnRenamed('atm_lon','lon')\n",
    "\n",
    "#renaming Column atm_location to location.\n",
    "#renaming atm_streetname to streetname\n",
    "#renaming atm_street_number to street_number\n",
    "#renaming atm_zipcode to zipcode\n",
    "#renaming atm_lat to lat"
   ]
  },
  {
   "cell_type": "code",
   "execution_count": 49,
   "id": "edcefd94",
   "metadata": {},
   "outputs": [],
   "source": [
    "fact_loc = fact_loc.join(DIM_LOCATION, on = ['location', 'streetname', 'street_number', 'zipcode', 'lat', 'lon'], how = \"left\")\n",
    "\n",
    "#Joining DIM_LOCATION With The Above Columns using Left Join."
   ]
  },
  {
   "cell_type": "code",
   "execution_count": 50,
   "id": "a3dc4eec",
   "metadata": {},
   "outputs": [
    {
     "data": {
      "text/plain": [
       "['location',\n",
       " 'streetname',\n",
       " 'street_number',\n",
       " 'zipcode',\n",
       " 'lat',\n",
       " 'lon',\n",
       " 'year',\n",
       " 'month',\n",
       " 'day',\n",
       " 'weekday',\n",
       " 'hour',\n",
       " 'atm_status',\n",
       " 'atm_id',\n",
       " 'atm_manufacturer',\n",
       " 'currency',\n",
       " 'card_type',\n",
       " 'transaction_amount',\n",
       " 'service',\n",
       " 'message_code',\n",
       " 'message_text',\n",
       " 'weather_lat',\n",
       " 'weather_lon',\n",
       " 'weather_city_id',\n",
       " 'weather_city_name',\n",
       " 'temp',\n",
       " 'pressure',\n",
       " 'humidity',\n",
       " 'wind_speed',\n",
       " 'wind_deg',\n",
       " 'rain_3h',\n",
       " 'clouds_all',\n",
       " 'weather_id',\n",
       " 'weather_main',\n",
       " 'weather_description',\n",
       " 'location_id']"
      ]
     },
     "execution_count": 50,
     "metadata": {},
     "output_type": "execute_result"
    }
   ],
   "source": [
    "fact_loc.columns\n",
    "\n",
    "#Checking Columns"
   ]
  },
  {
   "cell_type": "code",
   "execution_count": 51,
   "id": "74908e69",
   "metadata": {},
   "outputs": [
    {
     "data": {
      "text/plain": [
       "2468572"
      ]
     },
     "execution_count": 51,
     "metadata": {},
     "output_type": "execute_result"
    }
   ],
   "source": [
    "fact_loc.select('*').count()\n",
    "\n",
    "#Counting The Number Of Records In fact_loc"
   ]
  },
  {
   "cell_type": "code",
   "execution_count": 52,
   "id": "32fe0716",
   "metadata": {},
   "outputs": [],
   "source": [
    "fact_loc = fact_loc.withColumnRenamed('atm_id', 'atm_number').withColumnRenamed('location_id', 'atm_location_id')\n",
    "\n",
    "#renaming atm_id to atm_number\n",
    "#renaming location_id to atm_location_id"
   ]
  },
  {
   "cell_type": "code",
   "execution_count": 53,
   "id": "782d7c39",
   "metadata": {},
   "outputs": [],
   "source": [
    "fact_atm = fact_loc.join(DIM_ATM, on = ['atm_number', 'atm_manufacturer', 'atm_location_id'], how = \"left\")\n",
    "\n",
    "#joining DIM_ATM with Above Given Columns Using Left Join."
   ]
  },
  {
   "cell_type": "code",
   "execution_count": 54,
   "id": "e118b710",
   "metadata": {},
   "outputs": [],
   "source": [
    "fact_atm = fact_atm.withColumnRenamed('atm_location_id', 'weather_loc_id')\n",
    "\n",
    "#Renaming atm_location_id to weather_loc_id is also required."
   ]
  },
  {
   "cell_type": "code",
   "execution_count": 55,
   "id": "b2597575",
   "metadata": {},
   "outputs": [
    {
     "data": {
      "text/plain": [
       "2468572"
      ]
     },
     "execution_count": 55,
     "metadata": {},
     "output_type": "execute_result"
    }
   ],
   "source": [
    "fact_atm.select('*').count()\n",
    "\n",
    "#Counting Total Number Of Records In fact_atm."
   ]
  },
  {
   "cell_type": "markdown",
   "id": "a1c0521b",
   "metadata": {},
   "source": [
    "#### Stage 3 of FACT_ATM_TRANS Table -> joining the dataframe with DIM_DATE"
   ]
  },
  {
   "cell_type": "code",
   "execution_count": 56,
   "id": "3a495b8a",
   "metadata": {},
   "outputs": [],
   "source": [
    "fact_date = fact_atm.join(DIM_DATE, on = ['year', 'month', 'day', 'hour', 'weekday'], how = \"left\")\n",
    "\n",
    "#joining DIM_DATE with Above Columns Using Left Join."
   ]
  },
  {
   "cell_type": "code",
   "execution_count": 57,
   "id": "0e864451",
   "metadata": {},
   "outputs": [
    {
     "data": {
      "text/plain": [
       "2468572"
      ]
     },
     "execution_count": 57,
     "metadata": {},
     "output_type": "execute_result"
    }
   ],
   "source": [
    "fact_date.select('*').count()\n",
    "\n",
    "#Counting Total Number Of Records In fact_date"
   ]
  },
  {
   "cell_type": "markdown",
   "id": "0825d916",
   "metadata": {},
   "source": [
    "#### Stage 4 of FACT_ATM_TRANS Table -> joining the dataframe with DIM_CARD_TYPE"
   ]
  },
  {
   "cell_type": "code",
   "execution_count": 58,
   "id": "689deae7",
   "metadata": {},
   "outputs": [],
   "source": [
    "fact_atm_trans = fact_date.join(DIM_CARD_TYPE, on = ['card_type'], how = \"left\")\n",
    "\n",
    "#Joining fact_date with card_type column using left join."
   ]
  },
  {
   "cell_type": "code",
   "execution_count": 59,
   "id": "3e12b554",
   "metadata": {},
   "outputs": [
    {
     "data": {
      "text/plain": [
       "2468572"
      ]
     },
     "execution_count": 59,
     "metadata": {},
     "output_type": "execute_result"
    }
   ],
   "source": [
    "fact_atm_trans.select('*').count()\n",
    "\n",
    "#Counting Total Number Of Records In fact_atm_trans"
   ]
  },
  {
   "cell_type": "code",
   "execution_count": 60,
   "id": "f49bf928",
   "metadata": {},
   "outputs": [
    {
     "name": "stdout",
     "output_type": "stream",
     "text": [
      "+--------------------+----+-------+---+----+-------+----------+----------------+--------------+--------------+----------------+-------------+-------+------+-----+----------+--------+------------------+----------+------------+------------+-----------+-----------+---------------+-----------------+-------+--------+--------+----------+--------+-------+----------+----------+------------+-------------------+------+-------+-------------------+------------+--------+\n",
      "|           card_type|year|  month|day|hour|weekday|atm_number|atm_manufacturer|weather_loc_id|      location|      streetname|street_number|zipcode|   lat|  lon|atm_status|currency|transaction_amount|   service|message_code|message_text|weather_lat|weather_lon|weather_city_id|weather_city_name|   temp|pressure|humidity|wind_speed|wind_deg|rain_3h|clouds_all|weather_id|weather_main|weather_description|atm_id|date_id|     full_date_time|card_type_id|trans_id|\n",
      "+--------------------+----+-------+---+----+-------+----------+----------------+--------------+--------------+----------------+-------------+-------+------+-----+----------+--------+------------------+----------+------------+------------+-----------+-----------+---------------+-----------------+-------+--------+--------+----------+--------+-------+----------+----------+------------+-------------------+------+-------+-------------------+------------+--------+\n",
      "|Visa Dankort - on-us|2017|January|  9|  16| Monday|         6|             NCR|             2|    Fredericia|SjÃƒÂ¦llandsgade|           33|   7000|55.564|9.757|    Active|     DKK|               897|Withdrawal|        null|        null|     55.566|      9.753|        2621951|       Fredericia| 276.15|    1017|      93|         5|     190|    0.0|        90|       804|      Clouds|    overcast clouds|   146|      0|2017-01-09 16:00:00|           6|       1|\n",
      "|Visa Dankort - on-us|2017|January|  9|  16| Monday|        29|             NCR|             9|Skelagervej 15|     Skelagervej|           15|   9000|57.023|9.891|  Inactive|     DKK|              1261|Withdrawal|        null|        null|     57.048|      9.919|        2624886|          Aalborg|277.347|    1025|      91|         7|     206|    0.0|        88|       804|      Clouds|    overcast clouds|    83|      0|2017-01-09 16:00:00|           6|       2|\n",
      "|Visa Dankort - on-us|2017|January|  9|  16| Monday|         6|             NCR|             2|    Fredericia|SjÃƒÂ¦llandsgade|           33|   7000|55.564|9.757|    Active|     DKK|              7057|Withdrawal|        null|        null|     55.566|      9.753|        2621951|       Fredericia| 276.15|    1017|      93|         5|     190|    0.0|        90|       804|      Clouds|    overcast clouds|   146|      0|2017-01-09 16:00:00|           6|       3|\n",
      "|Visa Dankort - on-us|2017|January|  9|  16| Monday|        36|             NCR|            67|   HjÃƒÂ¸rring|    ÃƒËœstergade|            8|   9800|57.459|9.988|    Active|     DKK|              3636|Withdrawal|        null|        null|     57.464|      9.982|        2620214|         Hjorring|278.647|    1024|      99|         8|     210|   0.18|        92|       500|        Rain|         light rain|     3|      0|2017-01-09 16:00:00|           6|       4|\n",
      "|          MasterCard|2017|January|  9|  16| Monday|         6|             NCR|             2|    Fredericia|SjÃƒÂ¦llandsgade|           33|   7000|55.564|9.757|    Active|     DKK|              3230|Withdrawal|        null|        null|     55.566|      9.753|        2621951|       Fredericia| 276.15|    1017|      93|         5|     190|    0.0|        90|       804|      Clouds|    overcast clouds|   146|      0|2017-01-09 16:00:00|           9|       5|\n",
      "+--------------------+----+-------+---+----+-------+----------+----------------+--------------+--------------+----------------+-------------+-------+------+-----+----------+--------+------------------+----------+------------+------------+-----------+-----------+---------------+-----------------+-------+--------+--------+----------+--------+-------+----------+----------+------------+-------------------+------+-------+-------------------+------------+--------+\n",
      "only showing top 5 rows\n",
      "\n"
     ]
    }
   ],
   "source": [
    "from pyspark.sql.window import Window\n",
    "\n",
    "w = Window().orderBy('date_id')\n",
    "FACT_ATM_TRANS = fact_atm_trans.withColumn(\"trans_id\", row_number().over(w))\n",
    "FACT_ATM_TRANS.show(5, True)\n",
    "\n",
    "# Creating primary key of FACT_ATM_TRANS and viewing 5 record of the table and using truncate=True."
   ]
  },
  {
   "cell_type": "code",
   "execution_count": 61,
   "id": "b0761808",
   "metadata": {},
   "outputs": [
    {
     "data": {
      "text/plain": [
       "['card_type',\n",
       " 'year',\n",
       " 'month',\n",
       " 'day',\n",
       " 'hour',\n",
       " 'weekday',\n",
       " 'atm_number',\n",
       " 'atm_manufacturer',\n",
       " 'weather_loc_id',\n",
       " 'location',\n",
       " 'streetname',\n",
       " 'street_number',\n",
       " 'zipcode',\n",
       " 'lat',\n",
       " 'lon',\n",
       " 'atm_status',\n",
       " 'currency',\n",
       " 'transaction_amount',\n",
       " 'service',\n",
       " 'message_code',\n",
       " 'message_text',\n",
       " 'weather_lat',\n",
       " 'weather_lon',\n",
       " 'weather_city_id',\n",
       " 'weather_city_name',\n",
       " 'temp',\n",
       " 'pressure',\n",
       " 'humidity',\n",
       " 'wind_speed',\n",
       " 'wind_deg',\n",
       " 'rain_3h',\n",
       " 'clouds_all',\n",
       " 'weather_id',\n",
       " 'weather_main',\n",
       " 'weather_description',\n",
       " 'atm_id',\n",
       " 'date_id',\n",
       " 'full_date_time',\n",
       " 'card_type_id',\n",
       " 'trans_id']"
      ]
     },
     "execution_count": 61,
     "metadata": {},
     "output_type": "execute_result"
    }
   ],
   "source": [
    "FACT_ATM_TRANS.columns\n",
    "\n",
    "#Checking Columns"
   ]
  },
  {
   "cell_type": "code",
   "execution_count": 62,
   "id": "a07a717a",
   "metadata": {},
   "outputs": [],
   "source": [
    "FACT_ATM_TRANS = FACT_ATM_TRANS.select('trans_id', 'atm_id', 'weather_loc_id', 'date_id', 'card_type_id', \n",
    "'atm_status', 'currency', 'service', 'transaction_amount', 'message_code', 'message_text', 'rain_3h', \n",
    "'clouds_all', 'weather_id', 'weather_main', 'weather_description')\n",
    "\n",
    "#Selecting Some Required Columns."
   ]
  },
  {
   "cell_type": "code",
   "execution_count": 63,
   "id": "bcbb46a8",
   "metadata": {},
   "outputs": [
    {
     "data": {
      "text/plain": [
       "['trans_id',\n",
       " 'atm_id',\n",
       " 'weather_loc_id',\n",
       " 'date_id',\n",
       " 'card_type_id',\n",
       " 'atm_status',\n",
       " 'currency',\n",
       " 'service',\n",
       " 'transaction_amount',\n",
       " 'message_code',\n",
       " 'message_text',\n",
       " 'rain_3h',\n",
       " 'clouds_all',\n",
       " 'weather_id',\n",
       " 'weather_main',\n",
       " 'weather_description']"
      ]
     },
     "execution_count": 63,
     "metadata": {},
     "output_type": "execute_result"
    }
   ],
   "source": [
    "FACT_ATM_TRANS.columns\n",
    "\n",
    "#Checking Number Of Columns"
   ]
  },
  {
   "cell_type": "code",
   "execution_count": 64,
   "id": "5559202d",
   "metadata": {},
   "outputs": [
    {
     "data": {
      "text/plain": [
       "16"
      ]
     },
     "execution_count": 64,
     "metadata": {},
     "output_type": "execute_result"
    }
   ],
   "source": [
    "len(FACT_ATM_TRANS.columns)\n",
    "\n",
    "#Checking Number Of Columns"
   ]
  },
  {
   "cell_type": "code",
   "execution_count": 65,
   "id": "474a3570",
   "metadata": {},
   "outputs": [
    {
     "data": {
      "text/plain": [
       "2468572"
      ]
     },
     "execution_count": 65,
     "metadata": {},
     "output_type": "execute_result"
    }
   ],
   "source": [
    "FACT_ATM_TRANS.select('*').count()\n",
    "\n",
    "#Checking The Count Of Number Of Total Records In FACT_ATM_TRANS."
   ]
  },
  {
   "cell_type": "code",
   "execution_count": 67,
   "id": "d2f9a778",
   "metadata": {},
   "outputs": [],
   "source": [
    "DIM_LOCATION.coalesce(1).write.format('csv').option('header','false').save('s3://dj-etlproject/dim_location', mode='overwrite')\n",
    "#Saving To s3 Bucket With Folder Name dim_location in csv format."
   ]
  },
  {
   "cell_type": "code",
   "execution_count": 68,
   "id": "b9772f52",
   "metadata": {},
   "outputs": [],
   "source": [
    "DIM_ATM.coalesce(1).write.format('csv').option('header','false').save('s3://dj-etlproject/dim_atm', mode='overwrite')\n",
    "\n",
    "#Saving To s3 Bucket With Folder Name dim_atm in csv format."
   ]
  },
  {
   "cell_type": "code",
   "execution_count": 69,
   "id": "5f668eed",
   "metadata": {},
   "outputs": [],
   "source": [
    "DIM_DATE.coalesce(1).write.format('csv').option('header','false').save('s3://dj-etlproject/dim_date', mode='overwrite')\n",
    "\n",
    "#Saving To s3 Bucket With Folder Name dim_date in csv format."
   ]
  },
  {
   "cell_type": "code",
   "execution_count": 70,
   "id": "aedf8c9b",
   "metadata": {},
   "outputs": [],
   "source": [
    "DIM_CARD_TYPE.coalesce(1).write.format('csv').option('header','false').save('s3://dj-etlproject/dim_card_type', mode='overwrite')\n",
    "\n",
    "#Saving To s3 Bucket With Folder Name dim_card_type in csv format."
   ]
  },
  {
   "cell_type": "code",
   "execution_count": 71,
   "id": "4f2ede7a",
   "metadata": {},
   "outputs": [],
   "source": [
    "FACT_ATM_TRANS.coalesce(1).write.format('csv').option('header','false').save('s3://dj-etlproject/fact_atm_trans', mode='overwrite')\n",
    "\n",
    "#Saving To s3 Bucket With Folder Name fact_atm_trans in csv format."
   ]
  }
 ],
 "metadata": {
  "kernelspec": {
   "display_name": "Python 3 (ipykernel)",
   "language": "python",
   "name": "python3"
  },
  "language_info": {
   "codemirror_mode": {
    "name": "ipython",
    "version": 3
   },
   "file_extension": ".py",
   "mimetype": "text/x-python",
   "name": "python",
   "nbconvert_exporter": "python",
   "pygments_lexer": "ipython3",
   "version": "3.9.7"
  }
 },
 "nbformat": 4,
 "nbformat_minor": 5
}
